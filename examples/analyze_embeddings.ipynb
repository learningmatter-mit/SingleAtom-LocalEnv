{
 "cells": [
  {
   "cell_type": "code",
   "execution_count": 13,
   "metadata": {},
   "outputs": [],
   "source": [
    "import os\n",
    "os.environ[\"CUDA_DEVICE_ORDER\"]=\"PCI_BUS_ID\" \n",
    "os.environ[\"CUDA_VISIBLE_DEVICES\"]=\"0\"\n",
    "\n",
    "import json\n",
    "import pickle as pkl\n",
    "\n",
    "import numpy as np\n",
    "import torch\n",
    "# from persite_painn.nn.models import Painn\n",
    "\n",
    "from torch.utils.data import DataLoader\n",
    "from persite_painn.data import collate_dicts\n",
    "from persite_painn.nn.builder import get_model_list\n",
    "from persite_painn.utils import ensemble_inference\n",
    "from persite_painn.data.preprocess import convert_site_prop\n",
    "# from persite_painn.train import Normalizer, load_model\"\n",
    "from persite_painn.utils import plot_hexbin, inference, Normalizer, get_metal_idx, get_metal_idx_batch, ensemble_inference, plot_violin, get_metal_specie, get_metal_filter, plot_scatter, set_size\n",
    "from persite_painn.data import Dataset, split_train_test, build_dataset\n",
    "from persite_painn.utils.cuda import batch_to\n",
    "import matplotlib.pyplot as plt\n",
    "# from nff.data import Dataset\n",
    "from typing import Dict\n",
    "from tqdm import tqdm\n",
    "from sklearn.cluster import KMeans, DBSCAN\n",
    "from scipy.stats import norm\n",
    "from sklearn.decomposition import PCA\n",
    "from persite_painn.utils.postprocess import getdGs_tensor, getOverpotential_tensor\n",
    "import seaborn as sns\n",
    "\n",
    "from scipy import stats\n",
    "import pandas as pd\n",
    "from sklearn.manifold import TSNE"
   ]
  },
  {
   "attachments": {},
   "cell_type": "markdown",
   "metadata": {},
   "source": [
    "Download torch dataset `search_space_2_components` from our zenodo dataset [here](https://zenodo.org/records/10119944) to the `data_cache` folder.\n"
   ]
  },
  {
   "cell_type": "code",
   "execution_count": 2,
   "metadata": {},
   "outputs": [],
   "source": [
    "unlabelled_dataset = torch.load(\"../data_cache/search_space_2_components\")\n",
    "total_data_loader = DataLoader(\n",
    "    unlabelled_dataset,\n",
    "    batch_size=64,\n",
    "    num_workers=0,\n",
    "    collate_fn=collate_dicts,\n",
    ")"
   ]
  },
  {
   "cell_type": "code",
   "execution_count": 3,
   "metadata": {},
   "outputs": [],
   "source": [
    "model_path = \"models/m_painn/2_components/\"\n",
    "model_list = get_model_list(model_path=model_path, model_type=\"PainnMultifidelity\")"
   ]
  },
  {
   "cell_type": "code",
   "execution_count": 4,
   "metadata": {},
   "outputs": [],
   "source": [
    "def get_ensemble_hook(model_list):\n",
    "    features = {}\n",
    "    def get_atom_features(name):\n",
    "        def hook(model, input, output):\n",
    "            features[name] = output.detach()\n",
    "        return hook\n",
    "    hook_list = []\n",
    "    for i, model in enumerate(model_list):\n",
    "        hook=model.readout_block.readoutdict['atom_emb'][-1].register_forward_hook(get_atom_features(f\"atom_emb\"+str(i)))\n",
    "        hook_list.append(hook)\n",
    "    return features, hook_list\n",
    "\n",
    "def remove_ensemble_hook(hook_list):\n",
    "    for hook in hook_list:\n",
    "        hook.remove()"
   ]
  },
  {
   "cell_type": "code",
   "execution_count": 5,
   "metadata": {},
   "outputs": [],
   "source": [
    "features, hook_list = get_ensemble_hook(model_list)"
   ]
  },
  {
   "cell_type": "code",
   "execution_count": 6,
   "metadata": {},
   "outputs": [
    {
     "name": "stderr",
     "output_type": "stream",
     "text": [
      "100%|██████████| 238/238 [00:55<00:00,  4.28it/s]\n"
     ]
    }
   ],
   "source": [
    "embedding_bin= []\n",
    "oer_bin = []\n",
    "orr_bin = []\n",
    "ads_bin = []\n",
    "device = \"cuda\"\n",
    "for batch in tqdm(total_data_loader):\n",
    "    batch = batch_to(batch, device)\n",
    "    metal_filter = get_metal_filter(batch)\n",
    "    embedding_tmp = []\n",
    "    oer_tmp = []\n",
    "    orr_tmp = []\n",
    "    ads_tmp = []\n",
    "    batch_atom_len = batch[\"nxyz\"].shape[0]\n",
    "    for i, model in enumerate(model_list):\n",
    "        model.eval()\n",
    "        model.device = device\n",
    "        model.to(device)\n",
    "        out = model(batch, inference=True)[\"target\"]\n",
    "        embedding = features[f\"atom_emb{i}\"]\n",
    "        new_embedding = embedding[metal_filter].unsqueeze(-1)\n",
    "        dGs_tensor = getdGs_tensor(out)[metal_filter]\n",
    "        GOads = dGs_tensor[:,0]\n",
    "        GOHads = dGs_tensor[:,1]\n",
    "        ads = GOads-GOHads\n",
    "        oer_output, orr_output,_, _ = getOverpotential_tensor(dGs_tensor)\n",
    "        # print(oer_output.shape)\n",
    "        # print(new_embedding.shape, oer_output.unsqueeze(-1).shape, orr_output.unsqueeze(-1).shape)\n",
    "        embedding_tmp.append(new_embedding)\n",
    "        oer_tmp.append(oer_output.unsqueeze(-1))\n",
    "        orr_tmp.append(orr_output.unsqueeze(-1))\n",
    "        ads_tmp.append(ads.unsqueeze(-1))\n",
    "\n",
    "    val = torch.mean(torch.cat(embedding_tmp, dim=2), dim=2).squeeze(-1)\n",
    "    val_oer = torch.mean(torch.cat(oer_tmp, dim=1), dim=1).squeeze(-1)\n",
    "    val_orr = torch.mean(torch.cat(orr_tmp, dim=1), dim=1).squeeze(-1)\n",
    "    val_ads = torch.mean(torch.cat(ads_tmp, dim=1), dim=1).squeeze(-1)\n",
    "    for embedding in val:\n",
    "        embedding_bin.append(embedding.cpu().numpy())\n",
    "    for oer in val_oer:\n",
    "        oer_bin.append(oer.cpu().numpy() * -1)\n",
    "    for orr in val_orr:\n",
    "        orr_bin.append(orr.cpu().numpy()* -1)\n",
    "    for a in val_ads:\n",
    "        ads_bin.append(float(a.cpu().numpy()))\n",
    "remove_ensemble_hook(hook_list=hook_list)"
   ]
  },
  {
   "cell_type": "code",
   "execution_count": 12,
   "metadata": {},
   "outputs": [
    {
     "name": "stderr",
     "output_type": "stream",
     "text": [
      "/home2/hojechun/.conda/envs/SingleAtom/lib/python3.9/site-packages/sklearn/manifold/_t_sne.py:795: FutureWarning: The default initialization in TSNE will change from 'random' to 'pca' in 1.2.\n",
      "  warnings.warn(\n",
      "/home2/hojechun/.conda/envs/SingleAtom/lib/python3.9/site-packages/sklearn/manifold/_t_sne.py:805: FutureWarning: The default learning rate in TSNE will change from 200.0 to 'auto' in 1.2.\n",
      "  warnings.warn(\n"
     ]
    }
   ],
   "source": [
    "X_multifidelity = np.array(embedding_bin)\n",
    "\n",
    "# pca = PCA(n_components=8).fit(X_multifidelity)\n",
    "tsne = TSNE(n_components=2, perplexity=150, random_state=123)\n",
    "# df_pca = pca.transform(X_multifidelity)\n",
    "df_tsne = tsne.fit_transform(X_multifidelity)"
   ]
  },
  {
   "cell_type": "code",
   "execution_count": 10,
   "metadata": {},
   "outputs": [
    {
     "name": "stderr",
     "output_type": "stream",
     "text": [
      "/tmp/ipykernel_2268802/4137349281.py:13: UserWarning: Use the colorbar set_ticks() method instead.\n",
      "  cbar.ax.set_yticks([-4,-3,-2,-1])\n"
     ]
    },
    {
     "data": {
      "image/png": "[encoded data removed]",
      "text/plain": [
       "<Figure size 187.2x158.461 with 2 Axes>"
      ]
     },
     "metadata": {
      "needs_background": "light"
     },
     "output_type": "display_data"
    }
   ],
   "source": [
    "# color_dict = {22: \"#d53e4f\", 23: \"#f46d43\", 24: \"#fdae61\", 25: \"#fee08b\", 26: \"#8073ac\", 27: \"#abd9e9\", 28: \"#abdda4\", 29: \"#66c2a5\", 30: \"#3288bd\"}\n",
    "\n",
    "with plt.style.context(\"seaborn-bright\"):\n",
    "\n",
    "    fig = plt.figure(figsize=(2.6, 2.20084768))\n",
    "\n",
    "    cm = plt.cm.get_cmap(\"viridis\")\n",
    "    ax = fig.add_subplot()\n",
    "    im = ax.scatter(df_tsne[:,0], df_tsne[:,1], s=2, alpha=0.8, c = oer_bin, cmap=cm)\n",
    "    im.set_clim(-4,-.3)\n",
    "    cbar = fig.colorbar(im, ax=ax, pad=0.05)\n",
    "    cbar.set_label(label=\"$-\\eta_{OER}$ (V vs. RHE)\", size=8)\n",
    "    cbar.ax.set_yticks([-4,-3,-2,-1])\n",
    "    cbar.ax.tick_params(labelsize=6)\n",
    "    ax.set_yticklabels(\"\")\n",
    "    ax.set_xticklabels(\"\")\n",
    "    ax.set_xlabel(\"t-SNE 1\", fontsize=8, labelpad=5)\n",
    "    ax.set_ylabel(\"t-SNE 2\", fontsize=8, labelpad=5)\n",
    "    ax.tick_params(left=False, bottom=False)\n",
    "\n",
    "\n",
    "# fig.savefig(\"oer_activity_0712.png\", dpi=500, transparent=True,bbox_inches='tight')"
   ]
  },
  {
   "cell_type": "code",
   "execution_count": 11,
   "metadata": {},
   "outputs": [
    {
     "name": "stderr",
     "output_type": "stream",
     "text": [
      "/tmp/ipykernel_2268802/1381589787.py:9: UserWarning: Use the colorbar set_ticks() method instead.\n",
      "  cbar.ax.set_yticks([-4,-3,-2,-1])\n"
     ]
    },
    {
     "data": {
      "image/png": "[encoded data removed]",
      "text/plain": [
       "<Figure size 187.2x158.461 with 2 Axes>"
      ]
     },
     "metadata": {
      "needs_background": "light"
     },
     "output_type": "display_data"
    }
   ],
   "source": [
    "\n",
    "with plt.style.context(\"seaborn-bright\"):\n",
    "    fig = plt.figure(figsize=(2.6, 2.20084768))\n",
    "    cm = plt.cm.get_cmap(\"viridis\")\n",
    "    ax = fig.add_subplot()\n",
    "    im = ax.scatter(df_tsne[:,0], df_tsne[:,1], s=2, alpha=0.8, c = orr_bin, cmap=cm)\n",
    "    im.set_clim(-4,-.3)\n",
    "    cbar = fig.colorbar(im, ax=ax, pad=0.05)\n",
    "    cbar.set_label(label=\"$-\\eta_{ORR}$ (V vs. RHE)\", size=8)\n",
    "    cbar.ax.set_yticks([-4,-3,-2,-1])\n",
    "    cbar.ax.tick_params(labelsize=6)\n",
    "    ax.set_xlabel(\"Principal component 1\")\n",
    "    ax.set_ylabel(\"Principal component 2\")\n",
    "    ax.set_yticklabels(\"\")\n",
    "    ax.set_xticklabels(\"\")\n",
    "    ax.set_xlabel(\"t-SNE 1\", fontsize=8, labelpad=5)\n",
    "    ax.set_ylabel(\"t-SNE 2\", fontsize=8, labelpad=5)\n",
    "    ax.tick_params(left=False, bottom=False)\n",
    "\n",
    "\n",
    "# fig.savefig(\"orr_activity_0712.png\", dpi=500, transparent=True,bbox_inches='tight')"
   ]
  },
  {
   "cell_type": "code",
   "execution_count": null,
   "metadata": {},
   "outputs": [],
   "source": []
  }
 ],
 "metadata": {
  "kernelspec": {
   "display_name": "SingleAtom",
   "language": "python",
   "name": "python3"
  },
  "language_info": {
   "codemirror_mode": {
    "name": "ipython",
    "version": 3
   },
   "file_extension": ".py",
   "mimetype": "text/x-python",
   "name": "python",
   "nbconvert_exporter": "python",
   "pygments_lexer": "ipython3",
   "version": "3.9.12 | packaged by conda-forge | (main, Mar 24 2022, 23:25:59) \n[GCC 10.3.0]"
  },
  "orig_nbformat": 4,
  "vscode": {
   "interpreter": {
    "hash": "bb34e5a8b336b4bd0377c82a606fbaafbdbe43b8e32d29922d83376ebe2c2041"
   }
  }
 },
 "nbformat": 4,
 "nbformat_minor": 2
}
